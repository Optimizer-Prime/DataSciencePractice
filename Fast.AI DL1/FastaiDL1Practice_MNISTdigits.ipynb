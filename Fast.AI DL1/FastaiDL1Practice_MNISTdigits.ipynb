{
 "cells": [
  {
   "cell_type": "markdown",
   "metadata": {},
   "source": [
    "## Fast.ai Deep Learning 1 Practice - MNIST handwritten digit dataset"
   ]
  },
  {
   "cell_type": "markdown",
   "metadata": {},
   "source": [
    "This notebook is more image classification practice using the [MNSIT handwritten digit dataset](http://yann.lecun.com/exdb/mnist/)."
   ]
  },
  {
   "cell_type": "code",
   "execution_count": 1,
   "metadata": {},
   "outputs": [],
   "source": [
    "%reload_ext autoreload\n",
    "%autoreload 2\n",
    "%matplotlib inline"
   ]
  },
  {
   "cell_type": "code",
   "execution_count": 2,
   "metadata": {},
   "outputs": [],
   "source": [
    "from fastai.vision import *\n",
    "from fastai.metrics import error_rate"
   ]
  },
  {
   "cell_type": "code",
   "execution_count": 12,
   "metadata": {},
   "outputs": [],
   "source": [
    "path = Path('/path/to/dataset/mnist_png/')"
   ]
  },
  {
   "cell_type": "code",
   "execution_count": 13,
   "metadata": {},
   "outputs": [],
   "source": [
    "tfms = get_transforms(do_flip=False)"
   ]
  },
  {
   "cell_type": "code",
   "execution_count": 15,
   "metadata": {},
   "outputs": [],
   "source": [
    "data = ImageDataBunch.from_folder(path, 'training', valid_pct=0.2, ds_tfms=tfms, size=28)"
   ]
  },
  {
   "cell_type": "code",
   "execution_count": 16,
   "metadata": {},
   "outputs": [
    {
     "data": {
      "text/plain": [
       "['0', '1', '2', '3', '4', '5', '6', '7', '8', '9']"
      ]
     },
     "execution_count": 16,
     "metadata": {},
     "output_type": "execute_result"
    }
   ],
   "source": [
    "data.classes"
   ]
  },
  {
   "cell_type": "markdown",
   "metadata": {},
   "source": [
    "The classes pulled from the folder names appear correct. Validation set at 20% of training set."
   ]
  },
  {
   "cell_type": "code",
   "execution_count": 20,
   "metadata": {},
   "outputs": [
    {
     "name": "stdout",
     "output_type": "stream",
     "text": [
      "epoch     train_loss  valid_loss  accuracy  time    \n",
      "0         0.493689    0.345635    0.891786  00:19     \n",
      "1         0.265640    0.188141    0.942571  00:18     \n",
      "2         0.214027    0.112174    0.966071  00:18     \n",
      "3         0.150334    0.095334    0.969857  00:18     \n",
      "4         0.130539    0.076022    0.976429  00:19     \n",
      "5         0.119524    0.065669    0.979286  00:20     \n",
      "6         0.117691    0.056686    0.982714  00:20     \n",
      "7         0.104834    0.054614    0.982643  00:19     \n"
     ]
    }
   ],
   "source": [
    "learn = cnn_learner(data, models.resnet18, metrics=accuracy)\n",
    "learn.fit(8)"
   ]
  },
  {
   "cell_type": "code",
   "execution_count": 21,
   "metadata": {},
   "outputs": [
    {
     "name": "stdout",
     "output_type": "stream",
     "text": [
      "epoch     train_loss  valid_loss  accuracy  time    \n",
      "0         0.295935    #na#        00:02     \n",
      "LR Finder is complete, type {learner_name}.recorder.plot() to see the graph.\n"
     ]
    },
    {
     "name": "stderr",
     "output_type": "stream",
     "text": [
      "/home/user/anaconda3/envs/deep-learning/lib/python3.7/site-packages/fastai/sixel.py:16: UserWarning: You could see this plot with `libsixel`. See https://github.com/saitoha/libsixel\n",
      "  warn(\"You could see this plot with `libsixel`. See https://github.com/saitoha/libsixel\")\n"
     ]
    },
    {
     "data": {
      "image/png": "[encoded data removed]",
      "text/plain": [
       "<Figure size 432x288 with 1 Axes>"
      ]
     },
     "metadata": {
      "needs_background": "light"
     },
     "output_type": "display_data"
    }
   ],
   "source": [
    "learn.unfreeze()\n",
    "learn.lr_find()\n",
    "learn.recorder.plot()"
   ]
  },
  {
   "cell_type": "code",
   "execution_count": 24,
   "metadata": {},
   "outputs": [
    {
     "name": "stdout",
     "output_type": "stream",
     "text": [
      "epoch     train_loss  valid_loss  accuracy  time    \n",
      "0         0.034844    0.031408    0.989429  00:22     \n",
      "1         0.052278    0.032709    0.989500  00:21     \n",
      "2         0.046456    0.029644    0.991000  00:22     \n",
      "3         0.040125    0.029558    0.991071  00:23     \n",
      "4         0.030442    0.028939    0.991500  00:22     \n",
      "5         0.026508    0.025404    0.992286  00:22     \n",
      "6         0.026493    0.025172    0.992571  00:22     \n",
      "7         0.027934    0.024381    0.993286  00:22     \n"
     ]
    }
   ],
   "source": [
    "learn.fit_one_cycle(8, max_lr=slice(1e-5, 1e-4))"
   ]
  },
  {
   "cell_type": "code",
   "execution_count": 25,
   "metadata": {},
   "outputs": [],
   "source": [
    "learn.save('stage1-18')"
   ]
  },
  {
   "cell_type": "code",
   "execution_count": 30,
   "metadata": {},
   "outputs": [
    {
     "name": "stdout",
     "output_type": "stream",
     "text": [
      "epoch     train_loss  valid_loss  accuracy  time    \n",
      "0         0.025883    0.027215    0.992143  00:21     \n",
      "1         0.037168    0.032086    0.990286  00:22     \n",
      "2         0.041878    0.029454    0.991000  00:22     \n",
      "3         0.035175    0.025457    0.992643  00:22     \n",
      "4         0.026416    0.025246    0.992786  00:23     \n",
      "5         0.025642    0.024500    0.993214  00:22     \n",
      "6         0.019702    0.022390    0.994000  00:22     \n",
      "7         0.015216    0.021587    0.994571  00:22     \n",
      "8         0.010844    0.020889    0.994357  00:22     \n"
     ]
    }
   ],
   "source": [
    "# Trying slightly different learning rate\n",
    "\n",
    "learn.fit_one_cycle(9, max_lr=slice(1e-5, 5e-4))"
   ]
  },
  {
   "cell_type": "code",
   "execution_count": 31,
   "metadata": {},
   "outputs": [],
   "source": [
    "learn.save('stage2-18')"
   ]
  },
  {
   "cell_type": "markdown",
   "metadata": {},
   "source": [
    "## Trying out resnet34"
   ]
  },
  {
   "cell_type": "code",
   "execution_count": 32,
   "metadata": {},
   "outputs": [
    {
     "name": "stdout",
     "output_type": "stream",
     "text": [
      "epoch     train_loss  valid_loss  accuracy  time    \n",
      "0         0.389085    0.267943    0.914143  00:26     \n",
      "1         0.218107    0.135804    0.956929  00:27     \n",
      "2         0.153944    0.108720    0.966571  00:27     \n",
      "3         0.125937    0.082092    0.975429  00:27     \n",
      "4         0.100322    0.069678    0.979786  00:27     \n",
      "5         0.102003    0.061811    0.981214  00:27     \n",
      "6         0.078045    0.061167    0.980286  00:27     \n",
      "7         0.066684    0.053654    0.983357  00:27     \n"
     ]
    }
   ],
   "source": [
    "learn = cnn_learner(data, models.resnet34, metrics=accuracy)\n",
    "learn.fit(8)"
   ]
  },
  {
   "cell_type": "code",
   "execution_count": 33,
   "metadata": {},
   "outputs": [
    {
     "name": "stdout",
     "output_type": "stream",
     "text": [
      "epoch     train_loss  valid_loss  accuracy  time    \n",
      "0         0.104846    #na#        00:02     \n",
      "LR Finder is complete, type {learner_name}.recorder.plot() to see the graph.\n"
     ]
    },
    {
     "name": "stderr",
     "output_type": "stream",
     "text": [
      "/home/user/anaconda3/envs/deep-learning/lib/python3.7/site-packages/fastai/sixel.py:16: UserWarning: You could see this plot with `libsixel`. See https://github.com/saitoha/libsixel\n",
      "  warn(\"You could see this plot with `libsixel`. See https://github.com/saitoha/libsixel\")\n"
     ]
    },
    {
     "data": {
      "image/png": "[encoded data removed]",
      "text/plain": [
       "<Figure size 432x288 with 1 Axes>"
      ]
     },
     "metadata": {
      "needs_background": "light"
     },
     "output_type": "display_data"
    }
   ],
   "source": [
    "learn.unfreeze()\n",
    "learn.lr_find()\n",
    "learn.recorder.plot()"
   ]
  },
  {
   "cell_type": "code",
   "execution_count": 34,
   "metadata": {},
   "outputs": [
    {
     "name": "stdout",
     "output_type": "stream",
     "text": [
      "epoch     train_loss  valid_loss  accuracy  time    \n",
      "0         0.068915    0.042752    0.986286  00:32     \n",
      "1         0.057852    0.039378    0.987000  00:32     \n",
      "2         0.057676    0.037659    0.988071  00:32     \n",
      "3         0.039961    0.029623    0.991286  00:33     \n",
      "4         0.028113    0.027793    0.991857  00:32     \n",
      "5         0.021407    0.026449    0.992643  00:32     \n",
      "6         0.023843    0.024059    0.993071  00:33     \n",
      "7         0.018161    0.024289    0.993571  00:32     \n"
     ]
    }
   ],
   "source": [
    "learn.fit_one_cycle(8, max_lr=slice(1e-5, 1e-4))"
   ]
  },
  {
   "cell_type": "code",
   "execution_count": null,
   "metadata": {},
   "outputs": [],
   "source": []
  }
 ],
 "metadata": {
  "kernelspec": {
   "display_name": "Python [conda env:deep-learning] *",
   "language": "python",
   "name": "conda-env-deep-learning-py"
  },
  "language_info": {
   "codemirror_mode": {
    "name": "ipython",
    "version": 3
   },
   "file_extension": ".py",
   "mimetype": "text/x-python",
   "name": "python",
   "nbconvert_exporter": "python",
   "pygments_lexer": "ipython3",
   "version": "3.7.8"
  }
 },
 "nbformat": 4,
 "nbformat_minor": 4
}
